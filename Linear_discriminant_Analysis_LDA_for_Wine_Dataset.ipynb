{
  "nbformat": 4,
  "nbformat_minor": 0,
  "metadata": {
    "colab": {
      "name": "Linear-discriminant-Analysis-LDA-for-Wine-Dataset.ipynb",
      "provenance": []
    },
    "kernelspec": {
      "name": "python3",
      "display_name": "Python 3"
    },
    "language_info": {
      "name": "python"
    }
  },
  "cells": [
    {
      "cell_type": "code",
      "metadata": {
        "id": "iDUAlW3RX4R_"
      },
      "source": [
        "import pandas as pd\n",
        "import numpy as np\n",
        "from sklearn.discriminant_analysis import LinearDiscriminantAnalysis as LDA\n",
        " \n",
        "from sklearn import datasets\n",
        "import matplotlib.pyplot as plt\n",
        "%matplotlib inline"
      ],
      "execution_count": null,
      "outputs": []
    },
    {
      "cell_type": "code",
      "metadata": {
        "id": "6v5anjEsYW98"
      },
      "source": [
        "wine = datasets.load_wine()\n",
        "\n",
        "X = wine.data\n",
        "y = wine.target\n",
        "target_names = wine.target_names"
      ],
      "execution_count": null,
      "outputs": []
    },
    {
      "cell_type": "code",
      "metadata": {
        "id": "-Yzy61ONZgPV"
      },
      "source": [
        "lda = LDA(n_components=2)\n",
        "lda_X = lda.fit(X,y).transform(X)"
      ],
      "execution_count": null,
      "outputs": []
    },
    {
      "cell_type": "code",
      "metadata": {
        "colab": {
          "base_uri": "https://localhost:8080/",
          "height": 298
        },
        "id": "VnBNLRPpZmUy",
        "outputId": "207aa735-3066-4154-fcf4-c57c7d3ba50a"
      },
      "source": [
        "\n",
        "plt.scatter(lda_X[y == 0, 0], lda_X[y == 0, 1], s =80, c = 'Red', label = 'Type 0')\n",
        "plt.scatter(lda_X[y == 1, 0], lda_X[y == 1, 1], s =80,  c = 'Blue', label = 'Type 1')\n",
        "plt.scatter(lda_X[y == 2, 0], lda_X[y == 2, 1], s =80,  c = 'green', label = 'Type 2')\n",
        "plt.title('LDA plot for Wine Dataset')\n",
        "plt.legend()"
      ],
      "execution_count": null,
      "outputs": [
        {
          "output_type": "execute_result",
          "data": {
            "text/plain": [
              "<matplotlib.legend.Legend at 0x7f565c5a0e90>"
            ]
          },
          "metadata": {
            "tags": []
          },
          "execution_count": 19
        },
        {
          "output_type": "display_data",
          "data": {
            "image/png": "[encoded data removed]",
            "text/plain": [
              "<Figure size 432x288 with 1 Axes>"
            ]
          },
          "metadata": {
            "tags": [],
            "needs_background": "light"
          }
        }
      ]
    },
    {
      "cell_type": "code",
      "metadata": {
        "id": "N7XjKf95Zz4u"
      },
      "source": [
        "# Importing Libraries for Modelling.\n",
        "from sklearn import neighbors, datasets, preprocessing\n",
        "from sklearn.model_selection import train_test_split\n",
        "from sklearn.metrics import accuracy_score\n",
        "from sklearn.metrics import classification_report\n",
        "from sklearn.metrics import confusion_matrix"
      ],
      "execution_count": null,
      "outputs": []
    },
    {
      "cell_type": "code",
      "metadata": {
        "colab": {
          "base_uri": "https://localhost:8080/"
        },
        "id": "ETcbRM2ZZ1LB",
        "outputId": "a5712780-4197-4cf7-db99-4db28c85209e"
      },
      "source": [
        "\n",
        "#Setting training and testing values\n",
        "\n",
        "Xtrain, Xtest, y_train, y_test = train_test_split(X, y)\n",
        "scaler = preprocessing.StandardScaler().fit(Xtrain)\n",
        "Xtrain = scaler.transform(Xtrain)\n",
        "Xtest = scaler.transform(Xtest)\n",
        "\n",
        "# Modeling is done using KNN classifiers.\n",
        "knn = neighbors.KNeighborsClassifier(n_neighbors=5)\n",
        "knn.fit(Xtrain, y_train)\n",
        "y_pred = knn.predict(Xtest)\n",
        "\n",
        "\n",
        "# Display the Output\n",
        "\n",
        "print('Accuracy Score:', accuracy_score(y_test, y_pred))\n",
        "print('Confusion matrix \\n',  confusion_matrix(y_test, y_pred))\n",
        "print('Classification \\n', classification_report(y_test, y_pred))"
      ],
      "execution_count": null,
      "outputs": [
        {
          "output_type": "stream",
          "text": [
            "Accuracy Score: 1.0\n",
            "Confusion matrix \n",
            " [[18  0  0]\n",
            " [ 0 14  0]\n",
            " [ 0  0 13]]\n",
            "Classification \n",
            "               precision    recall  f1-score   support\n",
            "\n",
            "           0       1.00      1.00      1.00        18\n",
            "           1       1.00      1.00      1.00        14\n",
            "           2       1.00      1.00      1.00        13\n",
            "\n",
            "    accuracy                           1.00        45\n",
            "   macro avg       1.00      1.00      1.00        45\n",
            "weighted avg       1.00      1.00      1.00        45\n",
            "\n"
          ],
          "name": "stdout"
        }
      ]
    },
    {
      "cell_type": "code",
      "metadata": {
        "id": "nrtqsZNMarRH"
      },
      "source": [
        "Xtrain, Xtest, y_train, y_test = train_test_split(X, y, test_size=0.4, random_state=0)"
      ],
      "execution_count": null,
      "outputs": []
    },
    {
      "cell_type": "code",
      "metadata": {
        "colab": {
          "base_uri": "https://localhost:8080/"
        },
        "id": "t0ku_FV2bZug",
        "outputId": "0e150a5e-ca0b-43d6-d68c-177e48058b6b"
      },
      "source": [
        "\n",
        "#Logistic Regression accuracy\n",
        "from sklearn.metrics import confusion_matrix\n",
        "from sklearn.metrics import accuracy_score\n",
        "\n",
        "from sklearn.linear_model import LogisticRegression\n",
        "classifier = LogisticRegression()\n",
        "classifier.fit(Xtrain,y_train)\n",
        "y_pred = classifier.predict(Xtest)\n",
        "cm = confusion_matrix(y_test,y_pred)\n",
        "accuracy = accuracy_score(y_test,y_pred)\n",
        "print(\"Logistic Regression :\")\n",
        "print(\"Accuracy = \", accuracy)\n",
        "print(cm)"
      ],
      "execution_count": null,
      "outputs": [
        {
          "output_type": "stream",
          "text": [
            "Logistic Regression :\n",
            "Accuracy =  0.9305555555555556\n",
            "[[20  2  0]\n",
            " [ 0 28  3]\n",
            " [ 0  0 19]]\n"
          ],
          "name": "stdout"
        },
        {
          "output_type": "stream",
          "text": [
            "/usr/local/lib/python3.7/dist-packages/sklearn/linear_model/_logistic.py:940: ConvergenceWarning: lbfgs failed to converge (status=1):\n",
            "STOP: TOTAL NO. of ITERATIONS REACHED LIMIT.\n",
            "\n",
            "Increase the number of iterations (max_iter) or scale the data as shown in:\n",
            "    https://scikit-learn.org/stable/modules/preprocessing.html\n",
            "Please also refer to the documentation for alternative solver options:\n",
            "    https://scikit-learn.org/stable/modules/linear_model.html#logistic-regression\n",
            "  extra_warning_msg=_LOGISTIC_SOLVER_CONVERGENCE_MSG)\n"
          ],
          "name": "stderr"
        }
      ]
    },
    {
      "cell_type": "code",
      "metadata": {
        "colab": {
          "base_uri": "https://localhost:8080/"
        },
        "id": "jaZQvAQ3bhAM",
        "outputId": "08e84e72-fdee-47e7-afee-e3fb1e6870c9"
      },
      "source": [
        "#LR Cohen Kappa Accuracy\n",
        "from sklearn.metrics import cohen_kappa_score\n",
        "cluster = cohen_kappa_score(y_test, y_pred)\n",
        "cluster"
      ],
      "execution_count": null,
      "outputs": [
        {
          "output_type": "execute_result",
          "data": {
            "text/plain": [
              "0.8939929328621908"
            ]
          },
          "metadata": {
            "tags": []
          },
          "execution_count": 25
        }
      ]
    },
    {
      "cell_type": "code",
      "metadata": {
        "colab": {
          "base_uri": "https://localhost:8080/"
        },
        "id": "yJZafCvXb8jm",
        "outputId": "b210f9d2-1d08-4ff5-dbcb-6ae59bc52362"
      },
      "source": [
        "#K Nearest Neighbors accuracy\n",
        "from sklearn.neighbors import KNeighborsClassifier\n",
        "classifier = KNeighborsClassifier(n_neighbors=5, p=2, metric='minkowski')\n",
        "classifier.fit(Xtrain,y_train)\n",
        "y_pred = classifier.predict(Xtest)\n",
        "cm = confusion_matrix(y_test,y_pred)\n",
        "accuracy = accuracy_score(y_test,y_pred)\n",
        "print(\"K Nearest Neighbors :\")\n",
        "print(\"Accuracy = \", accuracy)\n",
        "print(cm)"
      ],
      "execution_count": null,
      "outputs": [
        {
          "output_type": "stream",
          "text": [
            "K Nearest Neighbors :\n",
            "Accuracy =  0.6666666666666666\n",
            "[[21  1  0]\n",
            " [ 2 21  8]\n",
            " [ 6  7  6]]\n"
          ],
          "name": "stdout"
        }
      ]
    },
    {
      "cell_type": "code",
      "metadata": {
        "colab": {
          "base_uri": "https://localhost:8080/"
        },
        "id": "wcI_YjfvcChd",
        "outputId": "d941f05e-bb49-4c56-f59e-fb5fc15c9318"
      },
      "source": [
        "#Cohen Kappa Accuracy for KNN\n",
        "from sklearn.metrics import cohen_kappa_score\n",
        "cluster = cohen_kappa_score(y_test, y_pred)\n",
        "cluster"
      ],
      "execution_count": null,
      "outputs": [
        {
          "output_type": "execute_result",
          "data": {
            "text/plain": [
              "0.4889086069210292"
            ]
          },
          "metadata": {
            "tags": []
          },
          "execution_count": 27
        }
      ]
    },
    {
      "cell_type": "code",
      "metadata": {
        "colab": {
          "base_uri": "https://localhost:8080/"
        },
        "id": "PIctWdBecLh_",
        "outputId": "57278cf8-fb89-49ba-effa-1c73f7e0198d"
      },
      "source": [
        "#Support Vector Machine Accuracy\n",
        "Xtrain, Xtest, y_train, y_test = train_test_split(X, y, test_size=0.6, random_state=0)\n",
        "\n",
        "#Support Vector Machine\n",
        "from sklearn.svm import SVC\n",
        "classifier = SVC()\n",
        "classifier.fit(Xtrain,y_train)\n",
        "y_pred = classifier.predict(Xtest)\n",
        "cm = confusion_matrix(y_test,y_pred)\n",
        "accuracy = accuracy_score(y_test,y_pred)\n",
        "print(\"Support Vector Machine:\")\n",
        "print(\"Accuracy = \", accuracy)\n",
        "print(cm)"
      ],
      "execution_count": null,
      "outputs": [
        {
          "output_type": "stream",
          "text": [
            "Support Vector Machine:\n",
            "Accuracy =  0.719626168224299\n",
            "[[30  0  4]\n",
            " [ 3 36  7]\n",
            " [ 4 12 11]]\n"
          ],
          "name": "stdout"
        }
      ]
    },
    {
      "cell_type": "code",
      "metadata": {
        "colab": {
          "base_uri": "https://localhost:8080/"
        },
        "id": "cbphT6QZcc5O",
        "outputId": "712fee16-0733-4ffe-a893-d0da76c00a80"
      },
      "source": [
        "#Cohen Kappa Accuracy for SVM\n",
        "from sklearn.metrics import cohen_kappa_score\n",
        "cluster = cohen_kappa_score(y_test, y_pred)\n",
        "cluster\n"
      ],
      "execution_count": null,
      "outputs": [
        {
          "output_type": "execute_result",
          "data": {
            "text/plain": [
              "0.5655704425497361"
            ]
          },
          "metadata": {
            "tags": []
          },
          "execution_count": 30
        }
      ]
    },
    {
      "cell_type": "code",
      "metadata": {
        "colab": {
          "base_uri": "https://localhost:8080/"
        },
        "id": "TvzoKWXBcmuP",
        "outputId": "e849e6a0-3fa4-4baf-c5ff-0e2395bdad9c"
      },
      "source": [
        "#Gaussian Naive Bayes Accuracy\n",
        "\n",
        "Xtrain, Xtest, y_train, y_test = train_test_split(X, y, test_size=0.5, random_state=0)\n",
        "\n",
        "#Gaussian Naive Bayes\n",
        "from sklearn.naive_bayes import GaussianNB\n",
        "classifier = GaussianNB()\n",
        "classifier.fit(Xtrain,y_train)\n",
        "y_pred = classifier.predict(Xtest)\n",
        "cm = confusion_matrix(y_test,y_pred)\n",
        "accuracy = accuracy_score(y_test,y_pred)\n",
        "print(\"Gaussian Naive Bayes :\")\n",
        "print(\"Accuracy = \", accuracy)\n",
        "print(cm)\n"
      ],
      "execution_count": null,
      "outputs": [
        {
          "output_type": "stream",
          "text": [
            "Gaussian Naive Bayes :\n",
            "Accuracy =  0.9438202247191011\n",
            "[[25  0  0]\n",
            " [ 3 35  2]\n",
            " [ 0  0 24]]\n"
          ],
          "name": "stdout"
        }
      ]
    },
    {
      "cell_type": "code",
      "metadata": {
        "colab": {
          "base_uri": "https://localhost:8080/"
        },
        "id": "AEwvWMQoc3Yf",
        "outputId": "2a4442dd-6a03-451f-fc88-d0a5be527618"
      },
      "source": [
        "#Cohen Kappa Accuracy for GNB\n",
        "from sklearn.metrics import cohen_kappa_score\n",
        "cluster = cohen_kappa_score(y_test, y_pred)\n",
        "cluster"
      ],
      "execution_count": null,
      "outputs": [
        {
          "output_type": "execute_result",
          "data": {
            "text/plain": [
              "0.9143736771214162"
            ]
          },
          "metadata": {
            "tags": []
          },
          "execution_count": 33
        }
      ]
    },
    {
      "cell_type": "code",
      "metadata": {
        "colab": {
          "base_uri": "https://localhost:8080/"
        },
        "id": "hoU4A_tuc_vD",
        "outputId": "cb1c8492-d79c-4268-b211-3ad0d175088b"
      },
      "source": [
        "#Decision Tree Classifier Accuracy\n",
        "\n",
        "Xtrain, Xtest, y_train, y_test = train_test_split(X, y, test_size=0.2, random_state=0)\n",
        "\n",
        "#Decision Tree Classifier\n",
        "from sklearn.model_selection import train_test_split\n",
        "\n",
        "\n",
        "from sklearn.tree import DecisionTreeClassifier as DT\n",
        "from sklearn.metrics import confusion_matrix\n",
        "from sklearn.metrics import accuracy_score\n",
        "\n",
        "classifier = DT(criterion='entropy', random_state=0)\n",
        "classifier.fit(Xtrain,y_train)\n",
        "y_pred = classifier.predict(Xtest)\n",
        "cm = confusion_matrix(y_test,y_pred)\n",
        "print(\"Decision Tree Classifier :\")\n",
        "print(\"Accuracy = \", accuracy)\n",
        "print(cm)"
      ],
      "execution_count": null,
      "outputs": [
        {
          "output_type": "stream",
          "text": [
            "Decision Tree Classifier :\n",
            "Accuracy =  0.9438202247191011\n",
            "[[13  1  0]\n",
            " [ 1 14  1]\n",
            " [ 0  0  6]]\n"
          ],
          "name": "stdout"
        }
      ]
    },
    {
      "cell_type": "code",
      "metadata": {
        "colab": {
          "base_uri": "https://localhost:8080/"
        },
        "id": "0nUwFbtrdL7m",
        "outputId": "0fedae2c-f207-4ac7-d1df-25f8486aeafe"
      },
      "source": [
        "#Cohen Kappa Accuracy for DTC\n",
        "\n",
        "from sklearn.metrics import cohen_kappa_score\n",
        "cluster = cohen_kappa_score(y_test, y_pred)\n",
        "cluster"
      ],
      "execution_count": null,
      "outputs": [
        {
          "output_type": "execute_result",
          "data": {
            "text/plain": [
              "0.8679706601466992"
            ]
          },
          "metadata": {
            "tags": []
          },
          "execution_count": 36
        }
      ]
    },
    {
      "cell_type": "code",
      "metadata": {
        "colab": {
          "base_uri": "https://localhost:8080/"
        },
        "id": "W7WyS6YzdX9h",
        "outputId": "ff1bee66-daee-4495-93f3-9016e60e414f"
      },
      "source": [
        "#Random Forest Classifier Accuracy\n",
        "from sklearn.ensemble import RandomForestClassifier as RF\n",
        "classifier = RF(n_estimators=10, criterion='entropy', random_state=0)\n",
        "classifier.fit(Xtrain,y_train)\n",
        "y_pred = classifier.predict(Xtest)\n",
        "cm = confusion_matrix(y_test,y_pred)\n",
        "print(\"Random Forest Classifier :\")\n",
        "print(\"Accuracy = \", accuracy)\n",
        "print(cm)\n"
      ],
      "execution_count": null,
      "outputs": [
        {
          "output_type": "stream",
          "text": [
            "Random Forest Classifier :\n",
            "Accuracy =  0.9438202247191011\n",
            "[[14  0  0]\n",
            " [ 1 15  0]\n",
            " [ 0  0  6]]\n"
          ],
          "name": "stdout"
        }
      ]
    },
    {
      "cell_type": "code",
      "metadata": {
        "colab": {
          "base_uri": "https://localhost:8080/"
        },
        "id": "x_jLH0mVdjBc",
        "outputId": "71d238a5-5352-4d36-c9e6-2d413b8ee410"
      },
      "source": [
        "#Cohen Kappa Accuracy for RFC\n",
        "from sklearn.metrics import cohen_kappa_score\n",
        "cluster = cohen_kappa_score(y_test, y_pred)\n",
        "cluster"
      ],
      "execution_count": null,
      "outputs": [
        {
          "output_type": "execute_result",
          "data": {
            "text/plain": [
              "0.9555555555555556"
            ]
          },
          "metadata": {
            "tags": []
          },
          "execution_count": 39
        }
      ]
    }
  ]
}